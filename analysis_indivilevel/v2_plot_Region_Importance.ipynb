{
 "cells": [
  {
   "cell_type": "code",
   "execution_count": 1,
   "metadata": {},
   "outputs": [],
   "source": [
    "import pickle\n",
    "import numpy as np\n",
    "import pandas as pd"
   ]
  },
  {
   "cell_type": "code",
   "execution_count": 2,
   "metadata": {},
   "outputs": [],
   "source": [
    "# prepare data for feature importance plot\n",
    "# 152 county has data\n",
    "with open('./v2_output/region_global_importance.pickle', 'rb') as handle:\n",
    "    region_global_importance = pickle.load(handle)"
   ]
  },
  {
   "cell_type": "code",
   "execution_count": 3,
   "metadata": {},
   "outputs": [],
   "source": [
    "for i in range(len(region_global_importance)):\n",
    "    dict_features_importances=list(region_global_importance.items())[i][1]['summary_importance:']\n",
    "    dict_features_importances['countyname']=list(region_global_importance.items())[i][0]\n",
    "    row = [dict_features_importances]\n",
    "    \n",
    "    \n",
    "    if i == 0:\n",
    "        df_region_feature_importance = pd.DataFrame(row)\n",
    "    else:\n",
    "        df_region_feature_importance = df_region_feature_importance._append(row, ignore_index=True)"
   ]
  },
  {
   "cell_type": "code",
   "execution_count": 5,
   "metadata": {},
   "outputs": [],
   "source": [
    "df_region_feature_importance.to_csv('./v2_output/region_feature_importance.csv', index=False)"
   ]
  },
  {
   "cell_type": "markdown",
   "metadata": {},
   "source": [
    "# Prepare data for coefficient plot"
   ]
  },
  {
   "cell_type": "code",
   "execution_count": 2,
   "metadata": {},
   "outputs": [],
   "source": [
    "# 152 county has data\n",
    "with open('./v2_output/region_global_importance.pickle', 'rb') as handle:\n",
    "    region_global_importance = pickle.load(handle)"
   ]
  },
  {
   "cell_type": "code",
   "execution_count": 33,
   "metadata": {},
   "outputs": [],
   "source": [
    "def convert_stringx_to_values(key_sort_dict):\n",
    "    lst = [i+1 for i in range(len(key_sort_dict))]\n",
    "    # Normalize list\n",
    "    min_val = min(lst)\n",
    "    max_val = max(lst)\n",
    "    normalized_lst = [(i - min_val) / (max_val - min_val) for i in lst]\n",
    "    return normalized_lst"
   ]
  },
  {
   "cell_type": "code",
   "execution_count": 34,
   "metadata": {},
   "outputs": [],
   "source": [
    "def get_coefficient(index, region_global_importance):\n",
    "    total_class_importance=list(region_global_importance.items())[index][1]['summary_impor_categorical_class']\n",
    "    dict_code_cpr_type={}\n",
    "    dict_code_etiology={}\n",
    "    dict_code_gender={}\n",
    "    dict_code_race={}\n",
    "    dict_code_location={}\n",
    "    dict_code_acuity={}\n",
    "    dict_code_witness={}\n",
    "    dict_code_cpr_used={}\n",
    "    dict_code_who_cpr={}\n",
    "    dict_code_aed_used={}\n",
    "    dict_code_duration={}\n",
    "    dict_code_age={}\n",
    "\n",
    "    for i in list(total_class_importance.keys()):\n",
    "        if i[:19] == \"code_cpr_type_class\":\n",
    "            dict_code_cpr_type.update({i:total_class_importance[i]})\n",
    "        if i[:19] == \"code_etiology_class\":\n",
    "            dict_code_etiology.update({i:total_class_importance[i]})\n",
    "        if i[:18] == \"code_location_type\":\n",
    "            dict_code_location.update({i:total_class_importance[i]})\n",
    "        if i[:17] == \"code_acuity_class\":\n",
    "            dict_code_acuity.update({i:total_class_importance[i]})\n",
    "        if i[:18] == \"code_witness_class\":\n",
    "            dict_code_witness.update({i:total_class_importance[i]})\n",
    "        if i[:19] == \"code_cpr_used_class\":\n",
    "            dict_code_cpr_used.update({i:total_class_importance[i]})\n",
    "        if i[:18] == \"code_who_cpr_class\":\n",
    "            dict_code_who_cpr.update({i:total_class_importance[i]})\n",
    "        if i[:19] == \"code_aed_used_class\":\n",
    "            dict_code_aed_used.update({i:total_class_importance[i]})\n",
    "        if i[:19] == \"code_duration_class\":\n",
    "            dict_code_duration.update({i:total_class_importance[i]})\n",
    "        if i[:14] == \"code_age_class\":\n",
    "            dict_code_age.update({i:total_class_importance[i]})\n",
    "            \n",
    "    sort_dict_code_cpr_type=dict(sorted(dict_code_cpr_type.items()))\n",
    "    sort_dict_code_etiology=dict(sorted(dict_code_etiology.items()))\n",
    "    sort_dict_code_location=dict(sorted(dict_code_location.items()))\n",
    "    sort_dict_code_acuity=dict(sorted(dict_code_acuity.items()))\n",
    "    sort_dict_code_witness=dict(sorted(dict_code_witness.items()))\n",
    "    sort_dict_code_cpr_used=dict(sorted(dict_code_cpr_used.items()))\n",
    "    sort_dict_code_who_cpr=dict(sorted(dict_code_who_cpr.items()))\n",
    "    sort_dict_code_aed_used=dict(sorted(dict_code_aed_used.items()))\n",
    "    sort_dict_code_duration=dict(sorted(dict_code_duration.items()))\n",
    "    sort_dict_code_age=dict(sorted(dict_code_age.items()))\n",
    "\n",
    "    x_code_cpr_type=convert_stringx_to_values(sort_dict_code_cpr_type.keys())\n",
    "    x_code_etiology=convert_stringx_to_values(sort_dict_code_etiology.keys())\n",
    "    x_code_location=convert_stringx_to_values(sort_dict_code_location.keys())\n",
    "    x_code_acuity=convert_stringx_to_values(sort_dict_code_acuity.keys())\n",
    "    x_code_witness=convert_stringx_to_values(sort_dict_code_witness.keys())\n",
    "    x_code_cpr_used=convert_stringx_to_values(sort_dict_code_cpr_used.keys())\n",
    "    x_code_who_cpr=convert_stringx_to_values(sort_dict_code_who_cpr.keys())\n",
    "    x_code_aed_used=convert_stringx_to_values(sort_dict_code_aed_used.keys())\n",
    "    x_code_duration=convert_stringx_to_values(sort_dict_code_duration.keys())\n",
    "    x_code_age=convert_stringx_to_values(sort_dict_code_age.keys())\n",
    "    \n",
    "    coeffi_cpr_type=np.polyfit(x_code_cpr_type, list(sort_dict_code_cpr_type.values()), 1)[0]\n",
    "    coeffi_etiology=np.polyfit(x_code_etiology, list(sort_dict_code_etiology.values()), 1)[0]\n",
    "    coeffi_location=np.polyfit(x_code_location, list(sort_dict_code_location.values()), 1)[0]\n",
    "    coeffi_acuity=np.polyfit(x_code_acuity, list(sort_dict_code_acuity.values()), 1)[0]\n",
    "    coeffi_witness=np.polyfit(x_code_witness, list(sort_dict_code_witness.values()), 1)[0]\n",
    "    coeffi_cpr_used=np.polyfit(x_code_cpr_used, list(sort_dict_code_cpr_used.values()), 1)[0]\n",
    "    coeffi_who_cpr=np.polyfit(x_code_who_cpr, list(sort_dict_code_who_cpr.values()), 1)[0]\n",
    "    coeffi_aed_used=np.polyfit(x_code_aed_used, list(sort_dict_code_aed_used.values()), 1)[0]\n",
    "    coeffi_duration=np.polyfit(x_code_duration, list(sort_dict_code_duration.values()), 1)[0]\n",
    "    coeffi_age=np.polyfit(x_code_age, list(sort_dict_code_age.values()), 1)[0]\n",
    "    \n",
    "    row=[{\"countyname\":list(region_global_importance.items())[index][0],\"coeffi_cpr_type\": coeffi_cpr_type, \"coeffi_etiology\":coeffi_etiology, \"coeffi_location\":coeffi_location, \n",
    "          \"coeffi_acuity\":coeffi_acuity, \"coeffi_witness\":coeffi_witness, \"coeffi_cpr_used\":coeffi_cpr_used, \n",
    "          \"coeffi_who_cpr\":coeffi_who_cpr, \"coeffi_aed_used\":coeffi_aed_used, \"coeffi_duration\":coeffi_duration, \n",
    "          \"coeffi_age\":coeffi_age}]\n",
    "    return row\n"
   ]
  },
  {
   "cell_type": "code",
   "execution_count": 35,
   "metadata": {},
   "outputs": [],
   "source": [
    "\n",
    "for i in range(len(region_global_importance)):\n",
    "    if i == 0:\n",
    "        row = get_coefficient(i, region_global_importance)\n",
    "        df_region_impo = pd.DataFrame(row)\n",
    "    else:\n",
    "        df_region_impo = df_region_impo._append(get_coefficient(i, region_global_importance), ignore_index=True)"
   ]
  },
  {
   "cell_type": "code",
   "execution_count": 41,
   "metadata": {},
   "outputs": [],
   "source": [
    "# df_region_impo.to_csv('./v2_output/region_coefficient.csv', index=False)"
   ]
  }
 ],
 "metadata": {
  "kernelspec": {
   "display_name": "xai_ca_torch",
   "language": "python",
   "name": "python3"
  },
  "language_info": {
   "codemirror_mode": {
    "name": "ipython",
    "version": 3
   },
   "file_extension": ".py",
   "mimetype": "text/x-python",
   "name": "python",
   "nbconvert_exporter": "python",
   "pygments_lexer": "ipython3",
   "version": "3.10.0"
  }
 },
 "nbformat": 4,
 "nbformat_minor": 2
}
