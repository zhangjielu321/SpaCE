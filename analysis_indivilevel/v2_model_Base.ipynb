{
 "cells": [
  {
   "cell_type": "code",
   "execution_count": 3,
   "metadata": {},
   "outputs": [],
   "source": [
    "import pandas as pd\n",
    "import numpy as np\n",
    "from sklearn.preprocessing import MinMaxScaler\n",
    "from sklearn.metrics import precision_recall_curve, auc\n",
    "from sklearn.model_selection import train_test_split\n",
    "from sklearn.metrics import roc_auc_score\n",
    "from sklearn.linear_model import LogisticRegression\n",
    "from sklearn.ensemble import (RandomForestClassifier, GradientBoostingClassifier)\n",
    "from xgboost import XGBClassifier\n",
    "import lightgbm as lgb\n",
    "from sklearn.neighbors import KNeighborsClassifier\n",
    "from sklearn.svm import SVC\n",
    "from sklearn.metrics import precision_recall_curve\n",
    "from sklearn.metrics import auc\n",
    "from sklearn.preprocessing import label_binarize\n",
    "\n",
    "\n"
   ]
  },
  {
   "cell_type": "markdown",
   "metadata": {},
   "source": [
    "# Tree Based model"
   ]
  },
  {
   "cell_type": "code",
   "execution_count": 2,
   "metadata": {},
   "outputs": [],
   "source": [
    "# Define the function to calculate Precision, recall, F1, AUCPR, AUCROC\n",
    "def calculate_AUCPR(y_test, y_score, n_classes):\n",
    "    y_test_binarized=label_binarize(y_test, classes=[*range(n_classes)])\n",
    "    precision = dict()\n",
    "    recall = dict()\n",
    "    area_pr = dict()\n",
    "    precision_mean=dict()\n",
    "    recall_mean=dict()\n",
    "    \n",
    "    for i in range(n_classes):\n",
    "        precision[i], recall[i], _ = precision_recall_curve(y_test_binarized[:, i],\n",
    "                                                            y_score[:, i])\n",
    "        area_pr[i]= auc(recall[i], precision[i],)\n",
    "        precision_mean[i]=precision[i].mean()\n",
    "        recall_mean[i]=recall[i].mean()\n",
    "        \n",
    "    mean_AUCPR = np.mean(list(area_pr.values()))\n",
    "    mean_precision = np.mean(list(precision_mean.values()))\n",
    "    mean_recall = np.mean(list(recall_mean.values()))\n",
    "    mean_f1=2 * (mean_precision * mean_recall) / (mean_precision + mean_recall)\n",
    "    return mean_precision, mean_recall, mean_f1, mean_AUCPR"
   ]
  },
  {
   "cell_type": "code",
   "execution_count": 13,
   "metadata": {},
   "outputs": [],
   "source": [
    "df_data=pd.read_csv('../v2_data_all/v2_data_coordinate_encoded_final.csv')\n",
    "data_final=df_data.drop(columns=['lat','lon'])\n",
    "X=data_final.drop(columns=['outcome'])\n",
    "y=data_final['outcome']\n",
    "object = MinMaxScaler()\n",
    "X_scaled=object.fit_transform(X)"
   ]
  },
  {
   "cell_type": "code",
   "execution_count": 14,
   "metadata": {},
   "outputs": [
    {
     "name": "stdout",
     "output_type": "stream",
     "text": [
      "model prediction finished\n"
     ]
    }
   ],
   "source": [
    "\n",
    "X_train, X_test, y_train, y_test = train_test_split(X_scaled,\n",
    "                                                    y,\n",
    "                                                    random_state = 42, \n",
    "                                                    test_size=0.2, stratify=y)\n",
    "\n",
    "# lr\n",
    "lr = LogisticRegression(random_state=42).fit(X_train, y_train)\n",
    "y_score_lr = lr.predict_proba(X_test)\n",
    "# knn\n",
    "knn = KNeighborsClassifier().fit(X_train, y_train)\n",
    "y_score_knn = lr.predict_proba(X_test)\n",
    "# rf\n",
    "rf = RandomForestClassifier(random_state=42).fit(X_train, y_train)\n",
    "y_score_rf = rf.predict_proba(X_test)\n",
    "# gb\n",
    "gb = GradientBoostingClassifier(random_state=42).fit(X_train, y_train)\n",
    "y_score_gb  = gb.predict_proba(X_test)\n",
    "# lgbm\n",
    "lgbm = lgb.LGBMClassifier(random_state=42).fit(X_train, y_train)\n",
    "y_score_lgbm = lgbm.predict_proba(X_test)\n",
    "# # xgb\n",
    "xgb = XGBClassifier(random_state=42).fit(X_train, y_train)\n",
    "y_score_xgb = xgb.predict_proba(X_test)\n",
    "# svc\n",
    "svc = SVC(random_state=42, probability=True).fit(X_train, y_train)\n",
    "y_score_svc = svc.predict_proba(X_test)\n",
    "\n",
    "print(\"model prediction finished\")"
   ]
  },
  {
   "cell_type": "code",
   "execution_count": 15,
   "metadata": {},
   "outputs": [
    {
     "name": "stdout",
     "output_type": "stream",
     "text": [
      "none finished\n"
     ]
    }
   ],
   "source": [
    "lr_precision, lr_recall, lr_f1, lr_AUCPR=calculate_AUCPR(y_test, y_score_lr, n_classes=3)\n",
    "knn_precision, knn_recall, knn_f1, knn_AUCPR=calculate_AUCPR(y_test, y_score_knn, n_classes=3)\n",
    "rf_precision, rf_recall, rf_f1, rf_AUCPR=calculate_AUCPR(y_test, y_score_rf, n_classes=3)\n",
    "gb_precision, gb_recall, gb_f1, gb_AUCPR=calculate_AUCPR(y_test, y_score_gb, n_classes=3)\n",
    "lgbm_precision, lgbm_recall, lgbm_f1, lgbm_AUCPR=calculate_AUCPR(y_test, y_score_lgbm, n_classes=3)\n",
    "xgb_precision, xgb_recall, xgb_f1, xgb_AUCPR=calculate_AUCPR(y_test, y_score_xgb, n_classes=3)\n",
    "svc_precision, svc_recall, svc_f1, svc_AUCPR=calculate_AUCPR(y_test, y_score_svc, n_classes=3)\n",
    "\n",
    "lr_AUCROC= roc_auc_score(y_test, y_score_lr, average='weighted', multi_class='ovo') \n",
    "knn_AUCROC=roc_auc_score(y_test, y_score_knn, average='weighted', multi_class='ovo') \n",
    "rf_AUCROC=roc_auc_score(y_test, y_score_rf, average='weighted', multi_class='ovo') \n",
    "gb_AUCROC=roc_auc_score(y_test, y_score_gb, average='weighted', multi_class='ovo') \n",
    "lgbm_AUCROC=roc_auc_score(y_test, y_score_lgbm, average='weighted', multi_class='ovo') \n",
    "xgb_AUCROC=roc_auc_score(y_test, y_score_xgb, average='weighted', multi_class='ovo') \n",
    "svc_AUCROC=roc_auc_score(y_test, y_score_svc, average='weighted', multi_class='ovo') \n",
    "print(\"none finished\")"
   ]
  },
  {
   "cell_type": "code",
   "execution_count": 16,
   "metadata": {},
   "outputs": [
    {
     "data": {
      "text/html": [
       "<div>\n",
       "<style scoped>\n",
       "    .dataframe tbody tr th:only-of-type {\n",
       "        vertical-align: middle;\n",
       "    }\n",
       "\n",
       "    .dataframe tbody tr th {\n",
       "        vertical-align: top;\n",
       "    }\n",
       "\n",
       "    .dataframe thead th {\n",
       "        text-align: right;\n",
       "    }\n",
       "</style>\n",
       "<table border=\"1\" class=\"dataframe\">\n",
       "  <thead>\n",
       "    <tr style=\"text-align: right;\">\n",
       "      <th></th>\n",
       "      <th>lr</th>\n",
       "      <th>knn</th>\n",
       "      <th>rf</th>\n",
       "      <th>gb</th>\n",
       "      <th>lgbm</th>\n",
       "      <th>xg</th>\n",
       "      <th>svc</th>\n",
       "    </tr>\n",
       "    <tr>\n",
       "      <th>metric_type</th>\n",
       "      <th></th>\n",
       "      <th></th>\n",
       "      <th></th>\n",
       "      <th></th>\n",
       "      <th></th>\n",
       "      <th></th>\n",
       "      <th></th>\n",
       "    </tr>\n",
       "  </thead>\n",
       "  <tbody>\n",
       "    <tr>\n",
       "      <th>no_location_precision</th>\n",
       "      <td>0.396261</td>\n",
       "      <td>0.396261</td>\n",
       "      <td>0.384355</td>\n",
       "      <td>0.415245</td>\n",
       "      <td>0.417077</td>\n",
       "      <td>0.400817</td>\n",
       "      <td>0.405585</td>\n",
       "    </tr>\n",
       "    <tr>\n",
       "      <th>no_location_recall</th>\n",
       "      <td>0.560318</td>\n",
       "      <td>0.560318</td>\n",
       "      <td>0.501782</td>\n",
       "      <td>0.583676</td>\n",
       "      <td>0.579757</td>\n",
       "      <td>0.570271</td>\n",
       "      <td>0.576010</td>\n",
       "    </tr>\n",
       "    <tr>\n",
       "      <th>no_location_F1</th>\n",
       "      <td>0.464221</td>\n",
       "      <td>0.464221</td>\n",
       "      <td>0.435288</td>\n",
       "      <td>0.485260</td>\n",
       "      <td>0.485143</td>\n",
       "      <td>0.470759</td>\n",
       "      <td>0.476003</td>\n",
       "    </tr>\n",
       "    <tr>\n",
       "      <th>no_location_AUCROC</th>\n",
       "      <td>0.586767</td>\n",
       "      <td>0.586767</td>\n",
       "      <td>0.571112</td>\n",
       "      <td>0.622856</td>\n",
       "      <td>0.616050</td>\n",
       "      <td>0.599403</td>\n",
       "      <td>0.609888</td>\n",
       "    </tr>\n",
       "    <tr>\n",
       "      <th>no_location_AUCPR</th>\n",
       "      <td>0.410091</td>\n",
       "      <td>0.410091</td>\n",
       "      <td>0.386918</td>\n",
       "      <td>0.444254</td>\n",
       "      <td>0.447223</td>\n",
       "      <td>0.418701</td>\n",
       "      <td>0.419982</td>\n",
       "    </tr>\n",
       "  </tbody>\n",
       "</table>\n",
       "</div>"
      ],
      "text/plain": [
       "                             lr       knn        rf        gb      lgbm  \\\n",
       "metric_type                                                               \n",
       "no_location_precision  0.396261  0.396261  0.384355  0.415245  0.417077   \n",
       "no_location_recall     0.560318  0.560318  0.501782  0.583676  0.579757   \n",
       "no_location_F1         0.464221  0.464221  0.435288  0.485260  0.485143   \n",
       "no_location_AUCROC     0.586767  0.586767  0.571112  0.622856  0.616050   \n",
       "no_location_AUCPR      0.410091  0.410091  0.386918  0.444254  0.447223   \n",
       "\n",
       "                             xg       svc  \n",
       "metric_type                                \n",
       "no_location_precision  0.400817  0.405585  \n",
       "no_location_recall     0.570271  0.576010  \n",
       "no_location_F1         0.470759  0.476003  \n",
       "no_location_AUCROC     0.599403  0.609888  \n",
       "no_location_AUCPR      0.418701  0.419982  "
      ]
     },
     "execution_count": 16,
     "metadata": {},
     "output_type": "execute_result"
    }
   ],
   "source": [
    "new_row=[{'metric_type': 'no_location_precision', 'lr': lr_precision, 'knn':knn_precision, 'rf':rf_precision, 'gb':gb_precision, 'lgbm':lgbm_precision, 'xg':xgb_precision, 'svc':svc_precision}, \n",
    "        {'metric_type': 'no_location_recall',  'lr': lr_recall, 'knn':knn_recall, 'rf':rf_recall, 'gb':gb_recall, 'lgbm':lgbm_recall, 'xg':xgb_recall, 'svc':svc_recall},\n",
    "        {'metric_type': 'no_location_F1', 'lr':lr_f1 , 'knn':knn_f1,'rf':rf_f1, 'gb':gb_f1, 'lgbm':lgbm_f1, 'xg':xgb_f1, 'svc':svc_f1},\n",
    "        {'metric_type': 'no_location_AUCROC', 'lr':lr_AUCROC , 'knn':knn_AUCROC, 'rf':rf_AUCROC, 'gb':gb_AUCROC, 'lgbm':lgbm_AUCROC, 'xg':xgb_AUCROC, 'svc':svc_AUCROC},\n",
    "        {'metric_type': 'no_location_AUCPR', 'lr':lr_AUCPR, 'knn':knn_AUCPR, 'rf':rf_AUCPR, 'gb':gb_AUCPR, 'lgbm':lgbm_AUCPR, 'xg':xgb_AUCPR, 'svc':svc_AUCPR}]\n",
    "df_comparison = pd.DataFrame(new_row)\n",
    "df_comparison.set_index('metric_type', inplace=True)\n",
    "df_comparison"
   ]
  },
  {
   "cell_type": "code",
   "execution_count": 17,
   "metadata": {},
   "outputs": [],
   "source": [
    "# df_comparison.to_csv('base_model_comparison.csv')"
   ]
  },
  {
   "cell_type": "code",
   "execution_count": null,
   "metadata": {},
   "outputs": [],
   "source": []
  },
  {
   "cell_type": "code",
   "execution_count": null,
   "metadata": {},
   "outputs": [],
   "source": []
  },
  {
   "cell_type": "code",
   "execution_count": null,
   "metadata": {},
   "outputs": [],
   "source": []
  },
  {
   "cell_type": "code",
   "execution_count": null,
   "metadata": {},
   "outputs": [],
   "source": []
  }
 ],
 "metadata": {
  "kernelspec": {
   "display_name": "xai_ca",
   "language": "python",
   "name": "python3"
  },
  "language_info": {
   "codemirror_mode": {
    "name": "ipython",
    "version": 3
   },
   "file_extension": ".py",
   "mimetype": "text/x-python",
   "name": "python",
   "nbconvert_exporter": "python",
   "pygments_lexer": "ipython3",
   "version": "3.10.0"
  }
 },
 "nbformat": 4,
 "nbformat_minor": 2
}
